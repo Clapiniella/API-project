{
 "cells": [
  {
   "cell_type": "code",
   "execution_count": 35,
   "metadata": {},
   "outputs": [
    {
     "name": "stderr",
     "output_type": "stream",
     "text": [
      "[nltk_data] Downloading package vader_lexicon to\n",
      "[nltk_data]     /home/clara/nltk_data...\n",
      "[nltk_data]   Package vader_lexicon is already up-to-date!\n"
     ]
    }
   ],
   "source": [
    "import sqlalchemy as db\n",
    "import getpass\n",
    "import json\n",
    "import pandas as pd\n",
    "import requests\n",
    "import nltk\n",
    "#nltk.download('vader_lexicon')\n",
    "from nltk.sentiment.vader import SentimentIntensityAnalyzer"
   ]
  },
  {
   "cell_type": "code",
   "execution_count": 39,
   "metadata": {},
   "outputs": [
    {
     "data": {
      "text/plain": [
       "{'neg': 0.783, 'neu': 0.217, 'pos': 0.0, 'compound': -0.5574}"
      ]
     },
     "execution_count": 39,
     "metadata": {},
     "output_type": "execute_result"
    }
   ],
   "source": [
    "sid = SentimentIntensityAnalyzer()\n",
    "sid.polarity_scores(\"Oh shit\")"
   ]
  },
  {
   "cell_type": "code",
   "execution_count": 21,
   "metadata": {},
   "outputs": [
    {
     "name": "stdout",
     "output_type": "stream",
     "text": [
      "Insert your mysql root password: ········\n",
      "Connected to server!\n"
     ]
    }
   ],
   "source": [
    "password = getpass.getpass(\"Insert your mysql root password: \")\n",
    "engine = db.create_engine('mysql+pymysql://root:{}@localhost/project_api'.format(password))\n",
    "print(\"Connected to server!\")"
   ]
  },
  {
   "cell_type": "markdown",
   "metadata": {},
   "source": [
    "# return chats from iduser"
   ]
  },
  {
   "cell_type": "code",
   "execution_count": 98,
   "metadata": {},
   "outputs": [
    {
     "data": {
      "text/plain": [
       "[{'idMessage': 42,\n",
       "  'text': 'What was that?',\n",
       "  'datetime': '2019-10-21 10:16:41',\n",
       "  'users_idUser': 7,\n",
       "  'chats_idChat': 4},\n",
       " {'idMessage': 44,\n",
       "  'text': 'Did you mean red room? Id love a red room.',\n",
       "  'datetime': '2019-10-21 10:18:41',\n",
       "  'users_idUser': 7,\n",
       "  'chats_idChat': 4},\n",
       " {'idMessage': 46,\n",
       "  'text': 'Chill out, pinky.. Its such a nice day',\n",
       "  'datetime': '2019-10-21 10:20:41',\n",
       "  'users_idUser': 7,\n",
       "  'chats_idChat': 4},\n",
       " {'idMessage': 48,\n",
       "  'text': 'Ill go for a walk in the park, I guess. Maybe fishing',\n",
       "  'datetime': '2019-10-21 10:22:41',\n",
       "  'users_idUser': 7,\n",
       "  'chats_idChat': 4},\n",
       " {'idMessage': 50,\n",
       "  'text': 'No! That places creeps me out..',\n",
       "  'datetime': '2019-10-21 10:24:41',\n",
       "  'users_idUser': 7,\n",
       "  'chats_idChat': 4}]"
      ]
     },
     "execution_count": 98,
     "metadata": {},
     "output_type": "execute_result"
    }
   ],
   "source": [
    "data = requests.get('http://localhost:8080/idUser/7').json()\n",
    "json.loads(data)"
   ]
  },
  {
   "cell_type": "markdown",
   "metadata": {},
   "source": [
    "# return who is this idUser"
   ]
  },
  {
   "cell_type": "code",
   "execution_count": 95,
   "metadata": {},
   "outputs": [
    {
     "data": {
      "text/plain": [
       "'[{\"userName\":\"John Wick\",\"TOTAL_MESSAGES\":12}]'"
      ]
     },
     "execution_count": 95,
     "metadata": {},
     "output_type": "execute_result"
    }
   ],
   "source": [
    "whothe = requests.get('http://localhost:8080/mensajes/8').json()\n",
    "whothe"
   ]
  },
  {
   "cell_type": "markdown",
   "metadata": {},
   "source": [
    "# return chat from idchat"
   ]
  },
  {
   "cell_type": "code",
   "execution_count": 94,
   "metadata": {},
   "outputs": [
    {
     "data": {
      "text/plain": [
       "[['REDRUM'],\n",
       " ['What was that?'],\n",
       " ['REDRUM REDRUM REDRUM'],\n",
       " ['Did you mean red room? Id love a red room.'],\n",
       " ['Murder, bro, cold blooded splashy murderous fun'],\n",
       " ['Chill out, pinky.. Its such a nice day'],\n",
       " ['A nice day to create havoc!'],\n",
       " ['Ill go for a walk in the park, I guess. Maybe fishing'],\n",
       " ['Fishing sounds good. What about the labyrinth?'],\n",
       " ['No! That places creeps me out..'],\n",
       " ['Oh mama'],\n",
       " ['que maravilloso']]"
      ]
     },
     "execution_count": 94,
     "metadata": {},
     "output_type": "execute_result"
    }
   ],
   "source": [
    "chatitos = requests.get('http://localhost:8080/chat/4/list').json()\n",
    "chatitos"
   ]
  },
  {
   "cell_type": "code",
   "execution_count": 99,
   "metadata": {},
   "outputs": [],
   "source": [
    "#https://dev.mysql.com/doc/connector-python/en/connector-python-api-mysqlcursor-fetchall.html"
   ]
  },
  {
   "cell_type": "code",
   "execution_count": 50,
   "metadata": {},
   "outputs": [],
   "source": [
    "def getSent(chats):\n",
    "    analiza = ' '.join([word for frase in chats for word in frase])\n",
    "    return sid.polarity_scores(analiza)"
   ]
  },
  {
   "cell_type": "code",
   "execution_count": 51,
   "metadata": {},
   "outputs": [
    {
     "data": {
      "text/plain": [
       "{'neg': 0.207, 'neu': 0.57, 'pos': 0.223, 'compound': -0.4261}"
      ]
     },
     "execution_count": 51,
     "metadata": {},
     "output_type": "execute_result"
    }
   ],
   "source": [
    "getSent(chatitos)"
   ]
  },
  {
   "cell_type": "markdown",
   "metadata": {},
   "source": [
    "# create User"
   ]
  },
  {
   "cell_type": "code",
   "execution_count": 100,
   "metadata": {},
   "outputs": [
    {
     "name": "stdout",
     "output_type": "stream",
     "text": [
      "[[36]]\n"
     ]
    }
   ],
   "source": [
    "new_name = {'name': 'Antonio Joder'}\n",
    "userid = requests.post(\"http://localhost:8080/user/create\", data=new_name).json()\n",
    "print(userid)"
   ]
  },
  {
   "cell_type": "markdown",
   "metadata": {},
   "source": [
    "# create Chat"
   ]
  },
  {
   "cell_type": "code",
   "execution_count": 101,
   "metadata": {},
   "outputs": [
    {
     "name": "stdout",
     "output_type": "stream",
     "text": [
      "{'11': \"You've succesfully created this chat\"}\n"
     ]
    }
   ],
   "source": [
    "chatid = requests.post(\"http://localhost:8080/create/chat\").json()\n",
    "print(chatid)"
   ]
  },
  {
   "cell_type": "markdown",
   "metadata": {},
   "source": [
    "# create Message"
   ]
  },
  {
   "cell_type": "code",
   "execution_count": 102,
   "metadata": {},
   "outputs": [
    {
     "name": "stdout",
     "output_type": "stream",
     "text": [
      "[[60], [61], [62], [67]]\n"
     ]
    }
   ],
   "source": [
    "new_message = {'text': 'Heyyyy, I love cats', \n",
    "               'userid': 3,\n",
    "               'chatid': 10}\n",
    "userid = requests.post(\"http://localhost:8080/chat/addmessage\", data=new_message).json()\n",
    "print(userid)"
   ]
  },
  {
   "cell_type": "markdown",
   "metadata": {},
   "source": [
    "# return Sentiments"
   ]
  },
  {
   "cell_type": "code",
   "execution_count": 103,
   "metadata": {},
   "outputs": [
    {
     "name": "stdout",
     "output_type": "stream",
     "text": [
      "{'neg': 0.202, 'neu': 0.579, 'pos': 0.218, 'compound': -0.4261}\n"
     ]
    }
   ],
   "source": [
    "sent = requests.get(\"http://localhost:8080/chat/4/sentiment\").json()\n",
    "print(sent)"
   ]
  },
  {
   "cell_type": "code",
   "execution_count": null,
   "metadata": {},
   "outputs": [],
   "source": []
  }
 ],
 "metadata": {
  "kernelspec": {
   "display_name": "Python 3",
   "language": "python",
   "name": "python3"
  },
  "language_info": {
   "codemirror_mode": {
    "name": "ipython",
    "version": 3
   },
   "file_extension": ".py",
   "mimetype": "text/x-python",
   "name": "python",
   "nbconvert_exporter": "python",
   "pygments_lexer": "ipython3",
   "version": "3.7.5"
  }
 },
 "nbformat": 4,
 "nbformat_minor": 2
}
