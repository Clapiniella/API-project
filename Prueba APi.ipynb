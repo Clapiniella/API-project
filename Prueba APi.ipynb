{
 "cells": [
  {
   "cell_type": "code",
   "execution_count": 2,
   "metadata": {},
   "outputs": [],
   "source": [
    "import sqlalchemy as db\n",
    "import getpass\n",
    "import json\n",
    "import pandas as pd\n",
    "import requests"
   ]
  },
  {
   "cell_type": "markdown",
   "metadata": {},
   "source": [
    "#  return users"
   ]
  },
  {
   "cell_type": "code",
   "execution_count": 3,
   "metadata": {},
   "outputs": [
    {
     "data": {
      "text/plain": [
       "[[1, 'Ellen Ripley'],\n",
       " [2, 'Danny Torrances Finger'],\n",
       " [3, 'Mike Wazowski'],\n",
       " [4, 'Leia Organa'],\n",
       " [5, 'Danny Torrance'],\n",
       " [6, 'J. Jonah Jameson'],\n",
       " [7, 'Tony Stark'],\n",
       " [8, 'John Wick'],\n",
       " [9, 'Guzman El Bueno'],\n",
       " [10, 'Tony Pons'],\n",
       " [31, 'Miriam Perez']]"
      ]
     },
     "execution_count": 3,
     "metadata": {},
     "output_type": "execute_result"
    }
   ],
   "source": [
    "users = requests.get('http://localhost:8080/idUser/user').json()\n",
    "users"
   ]
  },
  {
   "cell_type": "markdown",
   "metadata": {},
   "source": [
    "# return chats from iduser"
   ]
  },
  {
   "cell_type": "code",
   "execution_count": 143,
   "metadata": {},
   "outputs": [
    {
     "data": {
      "text/plain": [
       "[['Hey Dude, how is it going?'],\n",
       " [\"I've been through a shitty time, but getting better, you know\"]]"
      ]
     },
     "execution_count": 143,
     "metadata": {},
     "output_type": "execute_result"
    }
   ],
   "source": [
    "hola = requests.get('http://localhost:8080/idUser/10').json()\n",
    "hola"
   ]
  },
  {
   "cell_type": "markdown",
   "metadata": {},
   "source": [
    "# return who is this idUser"
   ]
  },
  {
   "cell_type": "code",
   "execution_count": 114,
   "metadata": {},
   "outputs": [
    {
     "data": {
      "text/plain": [
       "'[{\"userName\":\"John Wick\",\"TOTAL_MESSAGES\":12}]'"
      ]
     },
     "execution_count": 114,
     "metadata": {},
     "output_type": "execute_result"
    }
   ],
   "source": [
    "whothe = requests.get('http://localhost:8080/mensajes/8').json()\n",
    "whothe"
   ]
  },
  {
   "cell_type": "markdown",
   "metadata": {},
   "source": [
    "# return chat from idchat"
   ]
  },
  {
   "cell_type": "code",
   "execution_count": 156,
   "metadata": {},
   "outputs": [
    {
     "data": {
      "text/plain": [
       "[['REDRUM'],\n",
       " ['What was that?'],\n",
       " ['REDRUM REDRUM REDRUM'],\n",
       " ['Did you mean red room? Id love a red room.'],\n",
       " ['Murder, bro, cold blooded splashy murderous fun'],\n",
       " ['Chill out, pinky.. Its such a nice day'],\n",
       " ['A nice day to create havoc!'],\n",
       " ['Ill go for a walk in the park, I guess. Maybe fishing'],\n",
       " ['Fishing sounds good. What about the labyrinth?'],\n",
       " ['No! That places creeps me out..'],\n",
       " ['Oh mama'],\n",
       " ['que maravilloso']]"
      ]
     },
     "execution_count": 156,
     "metadata": {},
     "output_type": "execute_result"
    }
   ],
   "source": [
    "chatitos = requests.get('http://localhost:8080/chat/4/list').json()\n",
    "chatitos"
   ]
  },
  {
   "cell_type": "markdown",
   "metadata": {},
   "source": [
    "# create User"
   ]
  },
  {
   "cell_type": "markdown",
   "metadata": {},
   "source": [
    "The create User query could be done in html"
   ]
  },
  {
   "cell_type": "code",
   "execution_count": 100,
   "metadata": {},
   "outputs": [
    {
     "name": "stdout",
     "output_type": "stream",
     "text": [
      "[[36]]\n"
     ]
    }
   ],
   "source": [
    "new_name = {'name': 'Antonio Joder'}\n",
    "userid = requests.post(\"http://localhost:8080/user/create\", data=new_name).json()\n",
    "print(userid)"
   ]
  },
  {
   "cell_type": "markdown",
   "metadata": {},
   "source": [
    "# create Chat"
   ]
  },
  {
   "cell_type": "code",
   "execution_count": 101,
   "metadata": {},
   "outputs": [
    {
     "name": "stdout",
     "output_type": "stream",
     "text": [
      "{'11': \"You've succesfully created this chat\"}\n"
     ]
    }
   ],
   "source": [
    "chatid = requests.post(\"http://localhost:8080/create/chat\").json()\n",
    "print(chatid)"
   ]
  },
  {
   "cell_type": "markdown",
   "metadata": {},
   "source": [
    "# create Message"
   ]
  },
  {
   "cell_type": "markdown",
   "metadata": {},
   "source": [
    "The create Message query could be done in html"
   ]
  },
  {
   "cell_type": "code",
   "execution_count": 102,
   "metadata": {},
   "outputs": [
    {
     "name": "stdout",
     "output_type": "stream",
     "text": [
      "[[60], [61], [62], [67]]\n"
     ]
    }
   ],
   "source": [
    "new_message = {'text': 'Heyyyy, I love cats', \n",
    "               'userid': 3,\n",
    "               'chatid': 10}\n",
    "userid = requests.post(\"http://localhost:8080/chat/addmessage\", data=new_message).json()\n",
    "print(userid)"
   ]
  },
  {
   "cell_type": "markdown",
   "metadata": {},
   "source": [
    "# return Sentiments"
   ]
  },
  {
   "cell_type": "markdown",
   "metadata": {},
   "source": [
    "Given a ChatId"
   ]
  },
  {
   "cell_type": "code",
   "execution_count": 6,
   "metadata": {},
   "outputs": [
    {
     "name": "stdout",
     "output_type": "stream",
     "text": [
      "{'neg': 0.1, 'neu': 0.776, 'pos': 0.125, 'compound': 0.501}\n"
     ]
    }
   ],
   "source": [
    "sent = requests.get(\"http://localhost:8080/chat/2/sentiment\").json()\n",
    "print(sent)"
   ]
  },
  {
   "cell_type": "markdown",
   "metadata": {},
   "source": [
    "Given a UserId"
   ]
  },
  {
   "cell_type": "code",
   "execution_count": 5,
   "metadata": {},
   "outputs": [
    {
     "name": "stdout",
     "output_type": "stream",
     "text": [
      "{'neg': 0.209, 'neu': 0.69, 'pos': 0.101, 'compound': -0.834}\n"
     ]
    }
   ],
   "source": [
    "sent = requests.get(\"http://localhost:8080/user/2/sentiment\").json()\n",
    "print(sent)"
   ]
  },
  {
   "cell_type": "markdown",
   "metadata": {},
   "source": [
    "# recommendator"
   ]
  },
  {
   "cell_type": "markdown",
   "metadata": {},
   "source": [
    "#### If you ever felt alone, and you have used this chat before, go to the 'return users' point in order to get your name and find your friend"
   ]
  },
  {
   "cell_type": "code",
   "execution_count": 3,
   "metadata": {
    "scrolled": true
   },
   "outputs": [
    {
     "data": {
      "text/plain": [
       "{'Tony Pons': 'Your best friend should be Guzman El Bueno'}"
      ]
     },
     "execution_count": 3,
     "metadata": {},
     "output_type": "execute_result"
    }
   ],
   "source": [
    "yourFriend = requests.get('http://localhost:8080/findafriend/Tony Pons').json()\n",
    "yourFriend"
   ]
  },
  {
   "cell_type": "code",
   "execution_count": null,
   "metadata": {},
   "outputs": [],
   "source": []
  }
 ],
 "metadata": {
  "kernelspec": {
   "display_name": "Python 3",
   "language": "python",
   "name": "python3"
  },
  "language_info": {
   "codemirror_mode": {
    "name": "ipython",
    "version": 3
   },
   "file_extension": ".py",
   "mimetype": "text/x-python",
   "name": "python",
   "nbconvert_exporter": "python",
   "pygments_lexer": "ipython3",
   "version": "3.7.5"
  }
 },
 "nbformat": 4,
 "nbformat_minor": 2
}
