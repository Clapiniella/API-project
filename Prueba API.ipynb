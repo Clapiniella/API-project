{
 "cells": [
  {
   "cell_type": "code",
   "execution_count": 35,
   "metadata": {},
   "outputs": [
    {
     "name": "stderr",
     "output_type": "stream",
     "text": [
      "[nltk_data] Downloading package vader_lexicon to\n",
      "[nltk_data]     /home/clara/nltk_data...\n",
      "[nltk_data]   Package vader_lexicon is already up-to-date!\n"
     ]
    }
   ],
   "source": [
    "import sqlalchemy as db\n",
    "import getpass\n",
    "import json\n",
    "import pandas as pd\n",
    "import requests\n",
    "import nltk\n",
    "#nltk.download('vader_lexicon')\n",
    "from nltk.sentiment.vader import SentimentIntensityAnalyzer"
   ]
  },
  {
   "cell_type": "code",
   "execution_count": 39,
   "metadata": {},
   "outputs": [
    {
     "data": {
      "text/plain": [
       "{'neg': 0.783, 'neu': 0.217, 'pos': 0.0, 'compound': -0.5574}"
      ]
     },
     "execution_count": 39,
     "metadata": {},
     "output_type": "execute_result"
    }
   ],
   "source": [
    "sid = SentimentIntensityAnalyzer()\n",
    "sid.polarity_scores(\"Oh shit\")"
   ]
  },
  {
   "cell_type": "code",
   "execution_count": 21,
   "metadata": {},
   "outputs": [
    {
     "name": "stdout",
     "output_type": "stream",
     "text": [
      "Insert your mysql root password: ········\n",
      "Connected to server!\n"
     ]
    }
   ],
   "source": [
    "password = getpass.getpass(\"Insert your mysql root password: \")\n",
    "engine = db.create_engine('mysql+pymysql://root:{}@localhost/project_api'.format(password))\n",
    "print(\"Connected to server!\")"
   ]
  },
  {
   "cell_type": "markdown",
   "metadata": {},
   "source": [
    "# return chats from iduser"
   ]
  },
  {
   "cell_type": "code",
   "execution_count": 65,
   "metadata": {},
   "outputs": [
    {
     "data": {
      "text/plain": [
       "[{'idMessage': 63,\n",
       "  'text': 'Oh mama',\n",
       "  'datetime': '2019-12-01 21:28:21',\n",
       "  'users_idUser': 31,\n",
       "  'chats_idChat': 4}]"
      ]
     },
     "execution_count": 65,
     "metadata": {},
     "output_type": "execute_result"
    }
   ],
   "source": [
    "data = requests.get('http://localhost:8080/idUser/10').json()\n",
    "json.loads(data)"
   ]
  },
  {
   "cell_type": "markdown",
   "metadata": {},
   "source": [
    "# return who is this idUser"
   ]
  },
  {
   "cell_type": "code",
   "execution_count": 68,
   "metadata": {},
   "outputs": [
    {
     "data": {
      "text/plain": [
       "'[{\"userName\":\"John Wick\",\"TOTAL_MESSAGES\":12}]'"
      ]
     },
     "execution_count": 68,
     "metadata": {},
     "output_type": "execute_result"
    }
   ],
   "source": [
    "whothe = requests.get('http://localhost:8080/mensajes/8').json()\n",
    "whothe"
   ]
  },
  {
   "cell_type": "markdown",
   "metadata": {},
   "source": [
    "# return chat from idchat"
   ]
  },
  {
   "cell_type": "code",
   "execution_count": 61,
   "metadata": {},
   "outputs": [
    {
     "data": {
      "text/plain": [
       "[['REDRUM'],\n",
       " ['What was that?'],\n",
       " ['REDRUM REDRUM REDRUM'],\n",
       " ['Did you mean red room? Id love a red room.'],\n",
       " ['Murder, bro, cold blooded splashy murderous fun'],\n",
       " ['Chill out, pinky.. Its such a nice day'],\n",
       " ['A nice day to create havoc!'],\n",
       " ['Ill go for a walk in the park, I guess. Maybe fishing'],\n",
       " ['Fishing sounds good. What about the labyrinth?'],\n",
       " ['No! That places creeps me out..'],\n",
       " ['Oh mama']]"
      ]
     },
     "execution_count": 61,
     "metadata": {},
     "output_type": "execute_result"
    }
   ],
   "source": [
    "chatitos = requests.get('http://localhost:8080/chat/4/list').json()\n",
    "chatitos"
   ]
  },
  {
   "cell_type": "code",
   "execution_count": 8,
   "metadata": {},
   "outputs": [
    {
     "data": {
      "text/plain": [
       "str"
      ]
     },
     "execution_count": 8,
     "metadata": {},
     "output_type": "execute_result"
    }
   ],
   "source": [
    "#https://dev.mysql.com/doc/connector-python/en/connector-python-api-mysqlcursor-fetchall.html"
   ]
  },
  {
   "cell_type": "code",
   "execution_count": 50,
   "metadata": {},
   "outputs": [],
   "source": [
    "def getSent(chats):\n",
    "    analiza = ' '.join([word for frase in chats for word in frase])\n",
    "    return sid.polarity_scores(analiza)"
   ]
  },
  {
   "cell_type": "code",
   "execution_count": 51,
   "metadata": {},
   "outputs": [
    {
     "data": {
      "text/plain": [
       "{'neg': 0.207, 'neu': 0.57, 'pos': 0.223, 'compound': -0.4261}"
      ]
     },
     "execution_count": 51,
     "metadata": {},
     "output_type": "execute_result"
    }
   ],
   "source": [
    "getSent(chatitos)"
   ]
  },
  {
   "cell_type": "code",
   "execution_count": null,
   "metadata": {},
   "outputs": [],
   "source": []
  },
  {
   "cell_type": "code",
   "execution_count": null,
   "metadata": {},
   "outputs": [],
   "source": []
  },
  {
   "cell_type": "markdown",
   "metadata": {},
   "source": [
    "# create User"
   ]
  },
  {
   "cell_type": "code",
   "execution_count": 80,
   "metadata": {},
   "outputs": [
    {
     "name": "stdout",
     "output_type": "stream",
     "text": [
      "[[34], [35]]\n"
     ]
    }
   ],
   "source": [
    "new_name = {'name': 'Felipe Ferrero'}\n",
    "userid = requests.post(\"http://localhost:8080/user/create\", data=new_name).json()\n",
    "print(userid)"
   ]
  },
  {
   "cell_type": "markdown",
   "metadata": {},
   "source": [
    "# create Chat"
   ]
  },
  {
   "cell_type": "code",
   "execution_count": 67,
   "metadata": {},
   "outputs": [],
   "source": [
    "def newChat():  \n",
    "    with engine.connect() as conn:\n",
    "        a=list(conn.execute(\"SELECT idChat FROM chats ORDER BY idChat DESC LIMIT 1\"))\n",
    "        new_chatId = a[0][0]+1\n",
    "    with engine.connect() as conn:\n",
    "        new_chatque =\"\"\"\n",
    "            INSERT INTO chats (idChat) VALUES ({})  \n",
    "        \"\"\".format(new_chatId)\n",
    "        conn.execute(new_chatque) \n",
    "    return print(\"You've succesfully created {} chat\".format(new_chatId))"
   ]
  },
  {
   "cell_type": "code",
   "execution_count": 68,
   "metadata": {},
   "outputs": [
    {
     "name": "stdout",
     "output_type": "stream",
     "text": [
      "You've succesfully created 7 chat\n"
     ]
    }
   ],
   "source": [
    "newChat()"
   ]
  },
  {
   "cell_type": "code",
   "execution_count": 90,
   "metadata": {},
   "outputs": [
    {
     "name": "stdout",
     "output_type": "stream",
     "text": [
      "{'11': \"You've succesfully created this chat\"}\n"
     ]
    }
   ],
   "source": [
    "chatid = requests.post(\"http://localhost:8080/create/chat\").json()\n",
    "print(chatid)"
   ]
  },
  {
   "cell_type": "markdown",
   "metadata": {},
   "source": [
    "# create Message"
   ]
  },
  {
   "cell_type": "code",
   "execution_count": 93,
   "metadata": {},
   "outputs": [
    {
     "name": "stdout",
     "output_type": "stream",
     "text": [
      "[[60], [61], [62], [66]]\n"
     ]
    }
   ],
   "source": [
    "new_message = {'text': 'Heyyyy, I love cats', \n",
    "               'userid': 3,\n",
    "               'chatid': 10}\n",
    "userid = requests.post(\"http://localhost:8080/chat/addmessage\", data=new_message).json()\n",
    "print(userid)"
   ]
  },
  {
   "cell_type": "markdown",
   "metadata": {},
   "source": [
    "# return Sentiments"
   ]
  },
  {
   "cell_type": "code",
   "execution_count": 62,
   "metadata": {},
   "outputs": [
    {
     "name": "stdout",
     "output_type": "stream",
     "text": [
      "{'neg': 0.207, 'neu': 0.57, 'pos': 0.223, 'compound': -0.4261}\n"
     ]
    }
   ],
   "source": [
    "sent = requests.get(\"http://localhost:8080/chat/4/sentiment\").json()\n",
    "print(sent)"
   ]
  },
  {
   "cell_type": "code",
   "execution_count": null,
   "metadata": {},
   "outputs": [],
   "source": []
  }
 ],
 "metadata": {
  "kernelspec": {
   "display_name": "Python 3",
   "language": "python",
   "name": "python3"
  },
  "language_info": {
   "codemirror_mode": {
    "name": "ipython",
    "version": 3
   },
   "file_extension": ".py",
   "mimetype": "text/x-python",
   "name": "python",
   "nbconvert_exporter": "python",
   "pygments_lexer": "ipython3",
   "version": "3.7.5"
  }
 },
 "nbformat": 4,
 "nbformat_minor": 2
}
